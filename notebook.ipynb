{
 "cells": [
  {
   "cell_type": "code",
   "execution_count": null,
   "id": "9a92f249",
   "metadata": {},
   "outputs": [],
   "source": [
    "# remove csv files from tafsir folder\n",
    "import os\n",
    "from pathlib import Path\n",
    "\n",
    "base_folder = Path('tafsir')\n",
    "for auth_folder in base_folder.iterdir():\n",
    "    for csv_file in auth_folder.glob(\"*.csv\"):\n",
    "        os.remove(csv_file)"
   ]
  },
  {
   "cell_type": "code",
   "execution_count": 1,
   "id": "b01287c9",
   "metadata": {},
   "outputs": [],
   "source": [
    "# Extract tafsir text from json file and save it to a text file\n",
    "import os\n",
    "import json\n",
    "\n",
    "base_dir = \"tafsir\"\n",
    "\n",
    "for author in os.listdir(base_dir):\n",
    "    author_dir = os.path.join(base_dir, author)\n",
    "    if not os.path.isdir(author_dir):\n",
    "        continue\n",
    "    for filename in os.listdir(author_dir):\n",
    "        if filename.endswith(\".json\"):\n",
    "            surah_number = filename.replace(\".json\", \"\")\n",
    "            json_path = os.path.join(author_dir, filename)\n",
    "            with open(json_path, \"r\", encoding=\"utf-8\") as f:\n",
    "                data = json.load(f)\n",
    "            for item in data:\n",
    "                ayah_number = item[\"ayah_number\"]\n",
    "                txt_path = os.path.join(author_dir, f\"{surah_number}_{ayah_number}.txt\")\n",
    "                tafsir_text = item.pop(\"tafsir_text\", \"\")\n",
    "                if tafsir_text:\n",
    "                    with open(txt_path, \"w\", encoding=\"utf-8\") as txt_file:\n",
    "                        txt_file.write(tafsir_text)\n",
    "                    with open(json_path, \"w\", encoding=\"utf-8\") as f:\n",
    "                        json.dump(data, f, ensure_ascii=False, indent=2)"
   ]
  },
  {
   "cell_type": "code",
   "execution_count": null,
   "id": "ae5525d3",
   "metadata": {},
   "outputs": [],
   "source": [
    "# Translate Urdu Lectures to English (single file)\n",
    "from translate import TafsirTranslator\n",
    "\n",
    "translator = TafsirTranslator()\n",
    "result = translator.translate_file(\"surah1-lecture.txt\", \"surah1-lecture_en.txt\", 'ur')"
   ]
  },
  {
   "cell_type": "code",
   "execution_count": null,
   "id": "0c50abda",
   "metadata": {},
   "outputs": [],
   "source": [
    "# Translate Urdu Lectures to English (batch processing)\n",
    "from translate import TafsirTranslator\n",
    "\n",
    "translator = TafsirTranslator()\n",
    "result = translator.translate_files(\"lectures/\", \"lectures_translated/\", 'ur')        # English\n",
    "# result = translator.translate_files(\"lectures/\", \"lectures_translated/\", 'ur', 'fr')  # French\n",
    "# result = translator.translate_files(\"lectures/\", \"lectures_translated/\", 'ur', 'de')  # German\n",
    "# result = translator.translate_files(\"lectures/\", \"lectures_translated/\", 'ur', 'es')  # Spanish"
   ]
  },
  {
   "cell_type": "code",
   "execution_count": null,
   "id": "c40ffb48",
   "metadata": {},
   "outputs": [],
   "source": [
    "# Translate Arabic Tafsir to English, French, German (single file)\n",
    "from translate import TafsirTranslator\n",
    "\n",
    "translator = TafsirTranslator()\n",
    "result = translator.translate_file(\"surah1-ayat1.txt\", \"surah1-ayat1_en.txt\")\n",
    "result = translator.translate_file(\"surah1-ayat1.txt\", \"surah1-ayat1_fr.txt\", target_language='fr')\n",
    "result = translator.translate_file(\"surah1-ayat1.txt\", \"surah1-ayat1_de.txt\", target_language='de')\n",
    "result = translator.translate_file(\"surah1-ayat1.txt\", \"surah1-ayat1_es.txt\", target_language='es')"
   ]
  },
  {
   "cell_type": "code",
   "execution_count": null,
   "id": "2ef3c211",
   "metadata": {},
   "outputs": [],
   "source": [
    "# Translate Arabic Tafsir to English (batch processing)\n",
    "from translate import TafsirTranslator\n",
    "\n",
    "translator = TafsirTranslator()\n",
    "result = translator.translate_files(\"tafsir/\", \"tafsir_translated/\")        # English"
   ]
  }
 ],
 "metadata": {
  "kernelspec": {
   "display_name": ".venv",
   "language": "python",
   "name": "python3"
  },
  "language_info": {
   "codemirror_mode": {
    "name": "ipython",
    "version": 3
   },
   "file_extension": ".py",
   "mimetype": "text/x-python",
   "name": "python",
   "nbconvert_exporter": "python",
   "pygments_lexer": "ipython3",
   "version": "3.13.3"
  }
 },
 "nbformat": 4,
 "nbformat_minor": 5
}
